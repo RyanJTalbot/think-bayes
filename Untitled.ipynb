{
 "cells": [
  {
   "cell_type": "code",
   "execution_count": 1,
   "id": "ee2a6943",
   "metadata": {},
   "outputs": [],
   "source": [
    "# Importing the required libraries\n",
    "import requests\n",
    "import pandas as pd\n",
    "from bs4 import BeautifulSoup"
   ]
  },
  {
   "cell_type": "code",
   "execution_count": 2,
   "id": "04d64da1",
   "metadata": {},
   "outputs": [],
   "source": [
    "# Downloading contents of the web page\n",
    "url = \"https://fbref.com/en/squads/81021a70/2022/Switzerland-Men-Stats\"\n",
    "data = requests.get(url).text\n"
   ]
  },
  {
   "cell_type": "code",
   "execution_count": 3,
   "id": "0b6987ab",
   "metadata": {},
   "outputs": [],
   "source": [
    "# Creating BeautifulSoup object\n",
    "soup = BeautifulSoup(data, 'html.parser')"
   ]
  },
  {
   "cell_type": "code",
   "execution_count": 6,
   "id": "7541a047",
   "metadata": {},
   "outputs": [
    {
     "name": "stdout",
     "output_type": "stream",
     "text": [
      "ids of each table:\n",
      "stats_standard_3881\n",
      "matchlogs_for\n",
      "stats_keeper_3881\n",
      "stats_shooting_3881\n",
      "stats_playing_time_3881\n",
      "stats_misc_3881\n",
      "results38811C_overall\n"
     ]
    }
   ],
   "source": [
    "# Verifying tables and their classes\n",
    "print('ids of each table:')\n",
    "for table in soup.find_all('table'):\n",
    "    print(table.get('id'))"
   ]
  },
  {
   "cell_type": "markdown",
   "id": "90f3ea80",
   "metadata": {},
   "source": [
    "results38811C_overall"
   ]
  },
  {
   "cell_type": "code",
   "execution_count": 7,
   "id": "501cded3",
   "metadata": {},
   "outputs": [],
   "source": [
    "# Creating list with all tables\n",
    "tables = soup.find_all('table')\n",
    "\n",
    "#  Looking for the table with the classes 'wikitable' and 'sortable'\n",
    "table = soup.find('table', class_='results38811C_overall')\n"
   ]
  },
  {
   "cell_type": "code",
   "execution_count": 8,
   "id": "86e5ac10",
   "metadata": {},
   "outputs": [
    {
     "ename": "AttributeError",
     "evalue": "'NoneType' object has no attribute 'tbody'",
     "output_type": "error",
     "traceback": [
      "\u001b[0;31m---------------------------------------------------------------------------\u001b[0m",
      "\u001b[0;31mAttributeError\u001b[0m                            Traceback (most recent call last)",
      "Input \u001b[0;32mIn [8]\u001b[0m, in \u001b[0;36m<cell line: 5>\u001b[0;34m()\u001b[0m\n\u001b[1;32m      2\u001b[0m df \u001b[38;5;241m=\u001b[39m pd\u001b[38;5;241m.\u001b[39mDataFrame(columns\u001b[38;5;241m=\u001b[39m[\u001b[38;5;124m'\u001b[39m\u001b[38;5;124mRk\u001b[39m\u001b[38;5;124m'\u001b[39m, \u001b[38;5;124m'\u001b[39m\u001b[38;5;124mSquad\u001b[39m\u001b[38;5;124m'\u001b[39m, \u001b[38;5;124m'\u001b[39m\u001b[38;5;124mMP\u001b[39m\u001b[38;5;124m'\u001b[39m, \u001b[38;5;124m'\u001b[39m\u001b[38;5;124mW\u001b[39m\u001b[38;5;124m'\u001b[39m, \u001b[38;5;124m'\u001b[39m\u001b[38;5;124mD\u001b[39m\u001b[38;5;124m'\u001b[39m, \u001b[38;5;124m'\u001b[39m\u001b[38;5;124mL\u001b[39m\u001b[38;5;124m'\u001b[39m, \u001b[38;5;124m'\u001b[39m\u001b[38;5;124mGF\u001b[39m\u001b[38;5;124m'\u001b[39m, \u001b[38;5;124m'\u001b[39m\u001b[38;5;124mGA\u001b[39m\u001b[38;5;124m'\u001b[39m, \u001b[38;5;124m'\u001b[39m\u001b[38;5;124mGD\u001b[39m\u001b[38;5;124m'\u001b[39m, \u001b[38;5;124m'\u001b[39m\u001b[38;5;124mPts\u001b[39m\u001b[38;5;124m'\u001b[39m])\n\u001b[1;32m      4\u001b[0m \u001b[38;5;66;03m# Collecting Ddata\u001b[39;00m\n\u001b[0;32m----> 5\u001b[0m \u001b[38;5;28;01mfor\u001b[39;00m row \u001b[38;5;129;01min\u001b[39;00m \u001b[43mtable\u001b[49m\u001b[38;5;241;43m.\u001b[39;49m\u001b[43mtbody\u001b[49m\u001b[38;5;241m.\u001b[39mfind_all(\u001b[38;5;124m'\u001b[39m\u001b[38;5;124mtr\u001b[39m\u001b[38;5;124m'\u001b[39m):    \n\u001b[1;32m      6\u001b[0m     \u001b[38;5;66;03m# Find all data for each column\u001b[39;00m\n\u001b[1;32m      7\u001b[0m     columns \u001b[38;5;241m=\u001b[39m row\u001b[38;5;241m.\u001b[39mfind_all(\u001b[38;5;124m'\u001b[39m\u001b[38;5;124mtd\u001b[39m\u001b[38;5;124m'\u001b[39m)\n\u001b[1;32m      9\u001b[0m     \u001b[38;5;28;01mif\u001b[39;00m(columns \u001b[38;5;241m!=\u001b[39m []):\n",
      "\u001b[0;31mAttributeError\u001b[0m: 'NoneType' object has no attribute 'tbody'"
     ]
    }
   ],
   "source": [
    "# Defining of the dataframe\n",
    "df = pd.DataFrame(columns=['Rk', 'Squad', 'MP', 'W', 'D', 'L', 'GF', 'GA', 'GD', 'Pts'])\n",
    "\n",
    "# Collecting Ddata\n",
    "for row in table.tbody.find_all('tr'):    \n",
    "    # Find all data for each column\n",
    "    columns = row.find_all('td')\n",
    "    \n",
    "    if(columns != []):\n",
    "        RK = columns[0].text.strip()\n",
    "        Squad = columns[1].text.strip()\n",
    "        MP = columns[2].text.strip()\n",
    "        W = columns[3].text.strip()\n",
    "        D = columns[4].text.strip()\n",
    "        L = columns[5].text.strip()\n",
    "        GF = columns[6].text.strip()\n",
    "        GA = columns[7].text.strip()\n",
    "        GD = columns[8].text.strip()\n",
    "        Pts = columns[9].text.strip()\n",
    "\n",
    "        df = df.append({'Rk': RK, 'Squad': Squad, 'MP': MP, 'W': W, 'D': D, 'L': L, 'GF': GF, 'GA': GA, 'GD': GD, 'Pts': Pts}, ignore_index=True)\n",
    "        \n",
    "        \n",
    "        "
   ]
  },
  {
   "cell_type": "code",
   "execution_count": null,
   "id": "e985f7b2",
   "metadata": {},
   "outputs": [],
   "source": []
  }
 ],
 "metadata": {
  "kernelspec": {
   "display_name": "Python 3 (ipykernel)",
   "language": "python",
   "name": "python3"
  },
  "language_info": {
   "codemirror_mode": {
    "name": "ipython",
    "version": 3
   },
   "file_extension": ".py",
   "mimetype": "text/x-python",
   "name": "python",
   "nbconvert_exporter": "python",
   "pygments_lexer": "ipython3",
   "version": "3.9.12"
  }
 },
 "nbformat": 4,
 "nbformat_minor": 5
}
